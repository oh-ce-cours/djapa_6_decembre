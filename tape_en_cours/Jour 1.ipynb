{
 "cells": [
  {
   "cell_type": "markdown",
   "id": "ab21bc8c",
   "metadata": {},
   "source": [
    "# Rappel de la matinée \n",
    "\n",
    "* bases de python (`with`) \n",
    "* environnements virtuels \n",
    "    * création (1 seule fois par projet) : `python -m venv .venv`\n",
    "    * activation (à chaque usage du projet) :\n",
    "        * sous Unix : `source .venv/bin/activate`\n",
    "        * sous Windows : `.venv/Scripts/activate`\n",
    "    * désactivation : \n",
    "        * on ferme le shell \n",
    "        * `deactivate`\n",
    "    * suppression : on supprime le répertoire\n",
    "* requirements pip\n",
    "    * `pip freeze > requirements.txt`\n",
    "    * `pip install -r requirements.txt`\n",
    "    * dans le cas d'un venv, on le crée vierge et une fois activé, on installe les paquets dedans\n",
    "* configuration de VSCode :\n",
    "    * ajout de linter (outils d'analyse statique / collègue maniaque) : mypy / pylint\n",
    "    * ajouter de formateur : black "
   ]
  },
  {
   "cell_type": "markdown",
   "id": "eecb1d1c",
   "metadata": {},
   "source": [
    "# POO"
   ]
  },
  {
   "cell_type": "code",
   "execution_count": 56,
   "id": "a3cf9e38",
   "metadata": {},
   "outputs": [],
   "source": [
    "class Z():\n",
    "    def presentation_z()\n",
    "\n",
    "class A(Z):\n",
    "    def __init__(self):\n",
    "        self.message = \"Dans A\"\n",
    "        self.message_a = \"que dans a\"\n",
    "        print(self.message)\n",
    "    \n",
    "    def presentation(self):\n",
    "        print(self.message, self.message_a)\n",
    "        print(self, type(self))\n",
    "\n",
    "class B(A):\n",
    "    def __init__(self):\n",
    "        super().__init__()\n",
    "        super().presentation()\n",
    "        self.message = \"Dans B\"\n",
    "        print(self.message)"
   ]
  },
  {
   "cell_type": "code",
   "execution_count": 57,
   "id": "def2fcd1",
   "metadata": {},
   "outputs": [
    {
     "name": "stdout",
     "output_type": "stream",
     "text": [
      "Dans A\n"
     ]
    }
   ],
   "source": [
    "a = A()"
   ]
  },
  {
   "cell_type": "code",
   "execution_count": 58,
   "id": "5c1798cb",
   "metadata": {},
   "outputs": [
    {
     "name": "stdout",
     "output_type": "stream",
     "text": [
      "Dans A\n",
      "Dans A que dans a\n",
      "<__main__.B object at 0x7ff62ec089e8> <class '__main__.B'>\n",
      "Dans B\n"
     ]
    }
   ],
   "source": [
    "b = B()"
   ]
  },
  {
   "cell_type": "code",
   "execution_count": 59,
   "id": "c4f60797",
   "metadata": {},
   "outputs": [
    {
     "name": "stdout",
     "output_type": "stream",
     "text": [
      "Dans A que dans a\n",
      "<__main__.A object at 0x7ff62ec082e8> <class '__main__.A'>\n"
     ]
    }
   ],
   "source": [
    "a.presentation()"
   ]
  },
  {
   "cell_type": "code",
   "execution_count": 60,
   "id": "bf6b2cd6",
   "metadata": {},
   "outputs": [
    {
     "name": "stdout",
     "output_type": "stream",
     "text": [
      "Dans B que dans a\n",
      "<__main__.B object at 0x7ff62ec089e8> <class '__main__.B'>\n"
     ]
    }
   ],
   "source": [
    "b.presentation()"
   ]
  },
  {
   "cell_type": "code",
   "execution_count": 61,
   "id": "b3d0fb97",
   "metadata": {},
   "outputs": [
    {
     "data": {
      "text/plain": [
       "(True, True)"
      ]
     },
     "execution_count": 61,
     "metadata": {},
     "output_type": "execute_result"
    }
   ],
   "source": [
    "isinstance(b, B), isinstance(b, A)"
   ]
  },
  {
   "cell_type": "code",
   "execution_count": 62,
   "id": "766204cd",
   "metadata": {},
   "outputs": [
    {
     "data": {
      "text/plain": [
       "(False, True)"
      ]
     },
     "execution_count": 62,
     "metadata": {},
     "output_type": "execute_result"
    }
   ],
   "source": [
    "isinstance(a, B), isinstance(a, A)"
   ]
  },
  {
   "cell_type": "code",
   "execution_count": 64,
   "id": "dfe05fd9",
   "metadata": {},
   "outputs": [
    {
     "data": {
      "text/plain": [
       "(__main__.B, __main__.A, object)"
      ]
     },
     "execution_count": 64,
     "metadata": {},
     "output_type": "execute_result"
    }
   ],
   "source": [
    "B.__mro__"
   ]
  },
  {
   "cell_type": "code",
   "execution_count": null,
   "id": "76ef0c6a",
   "metadata": {},
   "outputs": [],
   "source": []
  },
  {
   "cell_type": "code",
   "execution_count": null,
   "id": "de07f0d9",
   "metadata": {},
   "outputs": [],
   "source": []
  }
 ],
 "metadata": {
  "kernelspec": {
   "display_name": "Python 3",
   "language": "python",
   "name": "python3"
  },
  "language_info": {
   "codemirror_mode": {
    "name": "ipython",
    "version": 3
   },
   "file_extension": ".py",
   "mimetype": "text/x-python",
   "name": "python",
   "nbconvert_exporter": "python",
   "pygments_lexer": "ipython3",
   "version": "3.6.8"
  }
 },
 "nbformat": 4,
 "nbformat_minor": 5
}
