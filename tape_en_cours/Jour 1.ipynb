{
 "cells": [
  {
   "cell_type": "markdown",
   "id": "f729b7b7",
   "metadata": {},
   "source": [
    "# Rappel de la matinée \n",
    "\n",
    "* bases de python (`with`) \n",
    "* environnements virtuels \n",
    "    * création (1 seule fois par projet) : `python -m venv .venv`\n",
    "    * activation (à chaque usage du projet) :\n",
    "        * sous Unix : `source .venv/bin/activate`\n",
    "        * sous Windows : `.venv/Scripts/activate`\n",
    "    * désactivation : \n",
    "        * on ferme le shell \n",
    "        * `deactivate`\n",
    "    * suppression : on supprime le répertoire\n",
    "* requirements pip\n",
    "    * `pip freeze > requirements.txt`\n",
    "    * `pip install -r requirements.txt`\n",
    "    * dans le cas d'un venv, on le crée vierge et une fois activé, on installe les paquets dedans\n",
    "* configuration de VSCode :\n",
    "    * ajout de linter (outils d'analyse statique / collègue maniaque) : mypy / pylint\n",
    "    * ajouter de formateur : black "
   ]
  },
  {
   "cell_type": "markdown",
   "id": "9632cb76",
   "metadata": {},
   "source": [
    "# POO"
   ]
  },
  {
   "cell_type": "code",
   "execution_count": 121,
   "id": "d66c81fd",
   "metadata": {},
   "outputs": [],
   "source": [
    "class Z():\n",
    "    def presentation_z(self):\n",
    "        print(\"dans presentation_z\")\n",
    "\n",
    "class A(Z):\n",
    "    def __init__(self):\n",
    "        self.message = \"Dans A\"\n",
    "        self.message_a = \"que dans a\"\n",
    "        print(self.message)\n",
    "    \n",
    "    def presentation(self):\n",
    "        print(self.message, self.message_a)\n",
    "        print(self, type(self))\n",
    "\n",
    "    def presentation_z(self):\n",
    "        print(\"dans presentation_z de A\")\n",
    "\n",
    "        \n",
    "class B(A):\n",
    "    def __init__(self):\n",
    "        super().__init__()\n",
    "        super().presentation()\n",
    "        self.message = \"Dans B\"\n",
    "        print(self.message)\n",
    "    \n",
    "    def presentation_z(self):\n",
    "        super().presentation_z()\n",
    "        print(\"dans presentation_z de B\")\n",
    "        Z.presentation_z(self)"
   ]
  },
  {
   "cell_type": "code",
   "execution_count": 122,
   "id": "51ba62b2",
   "metadata": {},
   "outputs": [
    {
     "name": "stdout",
     "output_type": "stream",
     "text": [
      "Dans A\n"
     ]
    }
   ],
   "source": [
    "a = A()"
   ]
  },
  {
   "cell_type": "code",
   "execution_count": 123,
   "id": "b59ae68b",
   "metadata": {},
   "outputs": [
    {
     "name": "stdout",
     "output_type": "stream",
     "text": [
      "Dans A\n",
      "Dans A que dans a\n",
      "<__main__.B object at 0x7ff62f2f0550> <class '__main__.B'>\n",
      "Dans B\n"
     ]
    }
   ],
   "source": [
    "b = B()"
   ]
  },
  {
   "cell_type": "code",
   "execution_count": 124,
   "id": "a23d2b78",
   "metadata": {},
   "outputs": [
    {
     "name": "stdout",
     "output_type": "stream",
     "text": [
      "Dans A que dans a\n",
      "<__main__.A object at 0x7ff62f19c358> <class '__main__.A'>\n"
     ]
    }
   ],
   "source": [
    "a.presentation()"
   ]
  },
  {
   "cell_type": "code",
   "execution_count": 125,
   "id": "1acfa95c",
   "metadata": {},
   "outputs": [
    {
     "name": "stdout",
     "output_type": "stream",
     "text": [
      "Dans B que dans a\n",
      "<__main__.B object at 0x7ff62f2f0550> <class '__main__.B'>\n"
     ]
    }
   ],
   "source": [
    "b.presentation()"
   ]
  },
  {
   "cell_type": "code",
   "execution_count": 126,
   "id": "99ce3e70",
   "metadata": {},
   "outputs": [
    {
     "data": {
      "text/plain": [
       "(True, True)"
      ]
     },
     "execution_count": 126,
     "metadata": {},
     "output_type": "execute_result"
    }
   ],
   "source": [
    "isinstance(b, B), isinstance(b, A)"
   ]
  },
  {
   "cell_type": "code",
   "execution_count": 127,
   "id": "0b994a8a",
   "metadata": {},
   "outputs": [
    {
     "data": {
      "text/plain": [
       "(False, True)"
      ]
     },
     "execution_count": 127,
     "metadata": {},
     "output_type": "execute_result"
    }
   ],
   "source": [
    "isinstance(a, B), isinstance(a, A)"
   ]
  },
  {
   "cell_type": "code",
   "execution_count": 128,
   "id": "c3eb84a5",
   "metadata": {},
   "outputs": [
    {
     "data": {
      "text/plain": [
       "(__main__.B, __main__.A, __main__.Z, object)"
      ]
     },
     "execution_count": 128,
     "metadata": {},
     "output_type": "execute_result"
    }
   ],
   "source": [
    "B.__mro__"
   ]
  },
  {
   "cell_type": "code",
   "execution_count": 129,
   "id": "f60a0b9c",
   "metadata": {},
   "outputs": [
    {
     "name": "stdout",
     "output_type": "stream",
     "text": [
      "dans presentation_z de A\n",
      "dans presentation_z de B\n",
      "dans presentation_z\n"
     ]
    }
   ],
   "source": [
    "b.presentation_z()"
   ]
  },
  {
   "cell_type": "markdown",
   "id": "ff57d542",
   "metadata": {},
   "source": [
    "## Variables de classe"
   ]
  },
  {
   "cell_type": "code",
   "execution_count": 149,
   "id": "1f48a7d8",
   "metadata": {},
   "outputs": [],
   "source": [
    "class Exemple:\n",
    "    class_var = \"toto\"\n",
    "    \n",
    "    def __init__(self):\n",
    "        #self.class_var = \"tata\"\n",
    "        print(id(Exemple.class_var))"
   ]
  },
  {
   "cell_type": "code",
   "execution_count": 150,
   "id": "77bdf205",
   "metadata": {},
   "outputs": [
    {
     "name": "stdout",
     "output_type": "stream",
     "text": [
      "140695328203528\n",
      "140695328203528\n",
      "----------\n",
      "140695328203528\n",
      "140695328203528\n",
      "140695328203528\n"
     ]
    }
   ],
   "source": [
    "e = Exemple()\n",
    "e2 = Exemple()\n",
    "print(\"----------\")\n",
    "print(id(e.class_var))\n",
    "print(id(e2.class_var))\n",
    "print(id(Exemple.class_var))"
   ]
  },
  {
   "cell_type": "code",
   "execution_count": 151,
   "id": "79c00eb1",
   "metadata": {},
   "outputs": [],
   "source": [
    "Exemple.class_var = 2030"
   ]
  },
  {
   "cell_type": "code",
   "execution_count": 152,
   "id": "c8965174",
   "metadata": {},
   "outputs": [
    {
     "data": {
      "text/plain": [
       "2030"
      ]
     },
     "execution_count": 152,
     "metadata": {},
     "output_type": "execute_result"
    }
   ],
   "source": [
    "e.class_var"
   ]
  },
  {
   "cell_type": "code",
   "execution_count": 153,
   "id": "0d304e26",
   "metadata": {},
   "outputs": [
    {
     "data": {
      "text/plain": [
       "2030"
      ]
     },
     "execution_count": 153,
     "metadata": {},
     "output_type": "execute_result"
    }
   ],
   "source": [
    "e2.class_var"
   ]
  },
  {
   "cell_type": "code",
   "execution_count": null,
   "id": "4a442617",
   "metadata": {},
   "outputs": [],
   "source": []
  }
 ],
 "metadata": {
  "kernelspec": {
   "display_name": "Python 3",
   "language": "python",
   "name": "python3"
  },
  "language_info": {
   "codemirror_mode": {
    "name": "ipython",
    "version": 3
   },
   "file_extension": ".py",
   "mimetype": "text/x-python",
   "name": "python",
   "nbconvert_exporter": "python",
   "pygments_lexer": "ipython3",
   "version": "3.6.8"
  }
 },
 "nbformat": 4,
 "nbformat_minor": 5
}
