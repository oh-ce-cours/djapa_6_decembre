{
 "cells": [
  {
   "cell_type": "markdown",
   "id": "d26e17f9",
   "metadata": {},
   "source": [
    "# Rappel de la matinée \n",
    "\n",
    "* bases de python (`with`) \n",
    "* environnements virtuels \n",
    "    * création (1 seule fois par projet) : `python -m venv .venv`\n",
    "    * activation (à chaque usage du projet) :\n",
    "        * sous Unix : `source .venv/bin/activate`\n",
    "        * sous Windows : `.venv/Scripts/activate`\n",
    "    * désactivation : \n",
    "        * on ferme le shell \n",
    "        * `deactivate`\n",
    "    * suppression : on supprime le répertoire\n",
    "* requirements pip\n",
    "    * `pip freeze > requirements.txt`\n",
    "    * `pip install -r requirements.txt`\n",
    "    * dans le cas d'un venv, on le crée vierge et une fois activé, on installe les paquets dedans\n",
    "* configuration de VSCode :\n",
    "    * ajout de linter (outils d'analyse statique / collègue maniaque) : mypy / pylint\n",
    "    * ajouter de formateur : black "
   ]
  },
  {
   "cell_type": "markdown",
   "id": "3039fea3",
   "metadata": {},
   "source": [
    "# POO"
   ]
  },
  {
   "cell_type": "code",
   "execution_count": 31,
   "id": "ffaf7721",
   "metadata": {},
   "outputs": [],
   "source": [
    "class A:\n",
    "    def __init__(self):\n",
    "        self.message = \"Dans A\"\n",
    "        self.message_a = \"que dans a\"\n",
    "        print(self.message)\n",
    "    \n",
    "    def presentation(self):\n",
    "        print(self.message, self.message_a)\n",
    "        print(self, type(self))\n",
    "\n",
    "class B(A):\n",
    "    def __init__(self):\n",
    "        super().__init__()\n",
    "        self.message = \"Dans B\"\n",
    "        print(self.message)"
   ]
  },
  {
   "cell_type": "code",
   "execution_count": 32,
   "id": "9f165a37",
   "metadata": {},
   "outputs": [
    {
     "name": "stdout",
     "output_type": "stream",
     "text": [
      "Dans A\n"
     ]
    }
   ],
   "source": [
    "a = A()"
   ]
  },
  {
   "cell_type": "code",
   "execution_count": 33,
   "id": "77785c42",
   "metadata": {},
   "outputs": [
    {
     "name": "stdout",
     "output_type": "stream",
     "text": [
      "Dans A\n",
      "Dans B\n"
     ]
    }
   ],
   "source": [
    "b = B()"
   ]
  },
  {
   "cell_type": "code",
   "execution_count": 34,
   "id": "04eec6c6",
   "metadata": {},
   "outputs": [
    {
     "name": "stdout",
     "output_type": "stream",
     "text": [
      "Dans A que dans a\n",
      "<__main__.A object at 0x7ff644520080> <class '__main__.A'>\n"
     ]
    }
   ],
   "source": [
    "a.presentation()"
   ]
  },
  {
   "cell_type": "code",
   "execution_count": 35,
   "id": "0350150f",
   "metadata": {},
   "outputs": [
    {
     "name": "stdout",
     "output_type": "stream",
     "text": [
      "Dans B que dans a\n",
      "<__main__.B object at 0x7ff62ebffdd8> <class '__main__.B'>\n"
     ]
    }
   ],
   "source": [
    "b.presentation()"
   ]
  },
  {
   "cell_type": "code",
   "execution_count": null,
   "id": "6ab4cc2b",
   "metadata": {},
   "outputs": [],
   "source": []
  }
 ],
 "metadata": {
  "kernelspec": {
   "display_name": "Python 3",
   "language": "python",
   "name": "python3"
  },
  "language_info": {
   "codemirror_mode": {
    "name": "ipython",
    "version": 3
   },
   "file_extension": ".py",
   "mimetype": "text/x-python",
   "name": "python",
   "nbconvert_exporter": "python",
   "pygments_lexer": "ipython3",
   "version": "3.6.8"
  }
 },
 "nbformat": 4,
 "nbformat_minor": 5
}
