{
 "cells": [
  {
   "cell_type": "markdown",
   "id": "c48d62db",
   "metadata": {},
   "source": [
    "# Rappel de la matinée \n",
    "\n",
    "* bases de python (`with`) \n",
    "* environnements virtuels \n",
    "    * création (1 seule fois par projet) : `python -m venv .venv`\n",
    "    * activation (à chaque usage du projet) :\n",
    "        * \n",
    "* requirements pip"
   ]
  },
  {
   "cell_type": "markdown",
   "id": "afc30756",
   "metadata": {},
   "source": [
    "# POO"
   ]
  },
  {
   "cell_type": "code",
   "execution_count": null,
   "id": "5a99c478",
   "metadata": {},
   "outputs": [],
   "source": []
  },
  {
   "cell_type": "code",
   "execution_count": null,
   "id": "fef4a4ac",
   "metadata": {},
   "outputs": [],
   "source": []
  }
 ],
 "metadata": {
  "kernelspec": {
   "display_name": "Python 3",
   "language": "python",
   "name": "python3"
  },
  "language_info": {
   "codemirror_mode": {
    "name": "ipython",
    "version": 3
   },
   "file_extension": ".py",
   "mimetype": "text/x-python",
   "name": "python",
   "nbconvert_exporter": "python",
   "pygments_lexer": "ipython3",
   "version": "3.6.8"
  }
 },
 "nbformat": 4,
 "nbformat_minor": 5
}
