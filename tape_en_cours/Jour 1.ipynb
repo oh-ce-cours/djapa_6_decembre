{
 "cells": [
  {
   "cell_type": "markdown",
   "id": "236ea90e",
   "metadata": {},
   "source": [
    "# Rappel de la matinée \n",
    "\n",
    "* bases de python (`with`) \n",
    "* environnements virtuels \n",
    "    * création (1 seule fois par projet) : `python -m venv .venv`\n",
    "    * activation (à chaque usage du projet) :\n",
    "        * sous Unix : `source .venv/bin/activate`\n",
    "        * sous Windows : `.venv/Scripts/activate`\n",
    "    * désactivation : \n",
    "        * on ferme le shell \n",
    "        * `deactivate`\n",
    "    * suppression : on supprime le répertoire\n",
    "* requirements pip\n",
    "    * `pip freeze > requirements.txt`\n",
    "    * `pip install -r requirements.txt`\n",
    "    * dans le cas d'un venv, on le crée vierge et une fois activé, on installe les paquets dedans\n",
    "* configuration de VSCode :\n",
    "    * ajout de linter (outils d'analyse statique / collègue maniaque) : mypy / pylint\n",
    "    * ajouter de formateur : black "
   ]
  },
  {
   "cell_type": "markdown",
   "id": "ebbe7355",
   "metadata": {},
   "source": [
    "# POO"
   ]
  },
  {
   "cell_type": "code",
   "execution_count": 121,
   "id": "69f3a2a0",
   "metadata": {},
   "outputs": [],
   "source": [
    "class Z():\n",
    "    def presentation_z(self):\n",
    "        print(\"dans presentation_z\")\n",
    "\n",
    "class A(Z):\n",
    "    def __init__(self):\n",
    "        self.message = \"Dans A\"\n",
    "        self.message_a = \"que dans a\"\n",
    "        print(self.message)\n",
    "    \n",
    "    def presentation(self):\n",
    "        print(self.message, self.message_a)\n",
    "        print(self, type(self))\n",
    "\n",
    "    def presentation_z(self):\n",
    "        print(\"dans presentation_z de A\")\n",
    "\n",
    "        \n",
    "class B(A):\n",
    "    def __init__(self):\n",
    "        super().__init__()\n",
    "        super().presentation()\n",
    "        self.message = \"Dans B\"\n",
    "        print(self.message)\n",
    "    \n",
    "    def presentation_z(self):\n",
    "        super().presentation_z()\n",
    "        print(\"dans presentation_z de B\")\n",
    "        Z.presentation_z(self)"
   ]
  },
  {
   "cell_type": "code",
   "execution_count": 122,
   "id": "056c9bc9",
   "metadata": {},
   "outputs": [
    {
     "name": "stdout",
     "output_type": "stream",
     "text": [
      "Dans A\n"
     ]
    }
   ],
   "source": [
    "a = A()"
   ]
  },
  {
   "cell_type": "code",
   "execution_count": 123,
   "id": "54bbd8f8",
   "metadata": {},
   "outputs": [
    {
     "name": "stdout",
     "output_type": "stream",
     "text": [
      "Dans A\n",
      "Dans A que dans a\n",
      "<__main__.B object at 0x7ff62f2f0550> <class '__main__.B'>\n",
      "Dans B\n"
     ]
    }
   ],
   "source": [
    "b = B()"
   ]
  },
  {
   "cell_type": "code",
   "execution_count": 124,
   "id": "4bb16eec",
   "metadata": {},
   "outputs": [
    {
     "name": "stdout",
     "output_type": "stream",
     "text": [
      "Dans A que dans a\n",
      "<__main__.A object at 0x7ff62f19c358> <class '__main__.A'>\n"
     ]
    }
   ],
   "source": [
    "a.presentation()"
   ]
  },
  {
   "cell_type": "code",
   "execution_count": 125,
   "id": "f14cc96f",
   "metadata": {},
   "outputs": [
    {
     "name": "stdout",
     "output_type": "stream",
     "text": [
      "Dans B que dans a\n",
      "<__main__.B object at 0x7ff62f2f0550> <class '__main__.B'>\n"
     ]
    }
   ],
   "source": [
    "b.presentation()"
   ]
  },
  {
   "cell_type": "code",
   "execution_count": 126,
   "id": "63dcff1a",
   "metadata": {},
   "outputs": [
    {
     "data": {
      "text/plain": [
       "(True, True)"
      ]
     },
     "execution_count": 126,
     "metadata": {},
     "output_type": "execute_result"
    }
   ],
   "source": [
    "isinstance(b, B), isinstance(b, A)"
   ]
  },
  {
   "cell_type": "code",
   "execution_count": 127,
   "id": "9e1f68b5",
   "metadata": {},
   "outputs": [
    {
     "data": {
      "text/plain": [
       "(False, True)"
      ]
     },
     "execution_count": 127,
     "metadata": {},
     "output_type": "execute_result"
    }
   ],
   "source": [
    "isinstance(a, B), isinstance(a, A)"
   ]
  },
  {
   "cell_type": "code",
   "execution_count": 128,
   "id": "41d69e4b",
   "metadata": {},
   "outputs": [
    {
     "data": {
      "text/plain": [
       "(__main__.B, __main__.A, __main__.Z, object)"
      ]
     },
     "execution_count": 128,
     "metadata": {},
     "output_type": "execute_result"
    }
   ],
   "source": [
    "B.__mro__"
   ]
  },
  {
   "cell_type": "code",
   "execution_count": 129,
   "id": "be6a4002",
   "metadata": {},
   "outputs": [
    {
     "name": "stdout",
     "output_type": "stream",
     "text": [
      "dans presentation_z de A\n",
      "dans presentation_z de B\n",
      "dans presentation_z\n"
     ]
    }
   ],
   "source": [
    "b.presentation_z()"
   ]
  },
  {
   "cell_type": "markdown",
   "id": "1bc28d3c",
   "metadata": {},
   "source": [
    "## Variables de classe"
   ]
  },
  {
   "cell_type": "code",
   "execution_count": 164,
   "id": "82b67d57",
   "metadata": {},
   "outputs": [],
   "source": [
    "class Exemple:\n",
    "    class_var = \"toto\"\n",
    "    \n",
    "    def __init__(self, param):\n",
    "        self.class_var = param\n",
    "        print(id(self.class_var))"
   ]
  },
  {
   "cell_type": "code",
   "execution_count": 167,
   "id": "54d54392",
   "metadata": {},
   "outputs": [
    {
     "name": "stdout",
     "output_type": "stream",
     "text": [
      "140695938077784\n",
      "140695938077784\n",
      "----------\n",
      "140695938077784\n",
      "140695938077784\n",
      "140695328203528\n"
     ]
    }
   ],
   "source": [
    "e = Exemple(\"a\")\n",
    "e2 = Exemple(\"a\")\n",
    "print(\"----------\")\n",
    "print(id(e.class_var))\n",
    "print(id(e2.class_var))\n",
    "print(id(Exemple.class_var))"
   ]
  },
  {
   "cell_type": "code",
   "execution_count": 166,
   "id": "ed8ed8dc",
   "metadata": {},
   "outputs": [],
   "source": [
    "e.class_var = 2030"
   ]
  },
  {
   "cell_type": "code",
   "execution_count": 162,
   "id": "8c8196b4",
   "metadata": {},
   "outputs": [
    {
     "data": {
      "text/plain": [
       "2030"
      ]
     },
     "execution_count": 162,
     "metadata": {},
     "output_type": "execute_result"
    }
   ],
   "source": [
    "e.class_var"
   ]
  },
  {
   "cell_type": "code",
   "execution_count": 163,
   "id": "b7d4cba9",
   "metadata": {},
   "outputs": [
    {
     "data": {
      "text/plain": [
       "'tata'"
      ]
     },
     "execution_count": 163,
     "metadata": {},
     "output_type": "execute_result"
    }
   ],
   "source": [
    "e2.class_var"
   ]
  },
  {
   "cell_type": "code",
   "execution_count": null,
   "id": "1bc4e519",
   "metadata": {},
   "outputs": [],
   "source": []
  },
  {
   "cell_type": "code",
   "execution_count": null,
   "id": "308ae74f",
   "metadata": {},
   "outputs": [],
   "source": []
  },
  {
   "cell_type": "markdown",
   "id": "c8525e84",
   "metadata": {},
   "source": [
    "# Tuto django \n",
    "\n",
    "https://docs.djangoproject.com/fr/3.2/intro/tutorial01/"
   ]
  },
  {
   "cell_type": "markdown",
   "id": "1534e7d1",
   "metadata": {},
   "source": [
    "# Database normalization (formes normales)\n",
    "\n",
    "* https://www.guru99.com/database-normalization.html\n",
    "* https://www.studytonight.com/dbms/database-normalization.php\n",
    "* https://www.softwaretestinghelp.com/database-normalization-tutorial/"
   ]
  },
  {
   "cell_type": "code",
   "execution_count": 168,
   "id": "061ed3da",
   "metadata": {},
   "outputs": [
    {
     "ename": "NameError",
     "evalue": "name 'models' is not defined",
     "output_type": "error",
     "traceback": [
      "\u001b[0;31m---------------------------------------------------------------------------\u001b[0m",
      "\u001b[0;31mNameError\u001b[0m                                 Traceback (most recent call last)",
      "\u001b[0;32m<ipython-input-168-85522e15bae9>\u001b[0m in \u001b[0;36m<module>\u001b[0;34m\u001b[0m\n\u001b[0;32m----> 1\u001b[0;31m \u001b[0;32mclass\u001b[0m \u001b[0mArticle\u001b[0m\u001b[0;34m(\u001b[0m\u001b[0mmodels\u001b[0m\u001b[0;34m.\u001b[0m\u001b[0mModel\u001b[0m\u001b[0;34m)\u001b[0m\u001b[0;34m:\u001b[0m\u001b[0;34m\u001b[0m\u001b[0;34m\u001b[0m\u001b[0m\n\u001b[0m\u001b[1;32m      2\u001b[0m     \u001b[0mtitle\u001b[0m \u001b[0;34m=\u001b[0m \u001b[0mmodels\u001b[0m\u001b[0;34m.\u001b[0m\u001b[0mCharField\u001b[0m\u001b[0;34m(\u001b[0m\u001b[0mmax_lenght\u001b[0m\u001b[0;34m=\u001b[0m\u001b[0;36m50\u001b[0m\u001b[0;34m)\u001b[0m\u001b[0;34m\u001b[0m\u001b[0;34m\u001b[0m\u001b[0m\n\u001b[1;32m      3\u001b[0m     \u001b[0mbody\u001b[0m \u001b[0;34m=\u001b[0m \u001b[0mmodels\u001b[0m\u001b[0;34m.\u001b[0m\u001b[0mTextField\u001b[0m\u001b[0;34m(\u001b[0m\u001b[0;34m)\u001b[0m\u001b[0;34m\u001b[0m\u001b[0;34m\u001b[0m\u001b[0m\n\u001b[1;32m      4\u001b[0m     \u001b[0mauthor\u001b[0m \u001b[0;34m=\u001b[0m \u001b[0mmodels\u001b[0m\u001b[0;34m.\u001b[0m\u001b[0mForeignKey\u001b[0m\u001b[0;34m(\u001b[0m\u001b[0;34m\"User\"\u001b[0m\u001b[0;34m)\u001b[0m\u001b[0;34m\u001b[0m\u001b[0;34m\u001b[0m\u001b[0m\n\u001b[1;32m      5\u001b[0m \u001b[0;34m\u001b[0m\u001b[0m\n",
      "\u001b[0;31mNameError\u001b[0m: name 'models' is not defined"
     ]
    }
   ],
   "source": [
    "class Article(models.Model):\n",
    "    title = models.CharField(max_lenght=50)\n",
    "    body = models.TextField()\n",
    "    author = models.ForeignKey(\"User\")\n",
    "\n",
    "\n",
    "for article in parsed_article:\n",
    "    # Article.objects.create(**article)\n",
    "    Article.objects.create(title=article[\"title\"], body=article[\"body\"])"
   ]
  },
  {
   "cell_type": "code",
   "execution_count": 172,
   "id": "c09fd49e",
   "metadata": {},
   "outputs": [
    {
     "data": {
      "text/plain": [
       "'valeur'"
      ]
     },
     "execution_count": 172,
     "metadata": {},
     "output_type": "execute_result"
    }
   ],
   "source": [
    "d = {\"cle\": \"valeur\"}\n",
    "\n",
    "d.get(\"cle\")"
   ]
  },
  {
   "cell_type": "code",
   "execution_count": 171,
   "id": "b929f408",
   "metadata": {},
   "outputs": [
    {
     "data": {
      "text/plain": [
       "''"
      ]
     },
     "execution_count": 171,
     "metadata": {},
     "output_type": "execute_result"
    }
   ],
   "source": [
    "d.get(\"toto\", \"\")"
   ]
  },
  {
   "cell_type": "code",
   "execution_count": 175,
   "id": "e3cf1ce0",
   "metadata": {},
   "outputs": [
    {
     "name": "stdout",
     "output_type": "stream",
     "text": [
      "cle\n"
     ]
    }
   ],
   "source": [
    "d_inverse = {v:k for k, v in d.items()}\n",
    "print(d_inverse[\"valeur\"])"
   ]
  },
  {
   "cell_type": "markdown",
   "id": "bbfd878e",
   "metadata": {},
   "source": [
    "# Exercice journalisme \n",
    "```\n",
    "\n",
    "// Creating tables\n",
    "\n",
    "Table Journaliste {\n",
    "  id int [pk]\n",
    "  name varchar\n",
    "  lastname varchar\n",
    " }\n",
    " \n",
    "Table Article {\n",
    "  id int [pk]\n",
    "  title varchar\n",
    "  body varchar\n",
    " }\n",
    " \n",
    "Table JournalisteArticle{\n",
    "  article int [pk]\n",
    "  journaliste int [pk]\n",
    "  contribution int \n",
    "\n",
    "} \n",
    "\n",
    "Table Commentaire {\n",
    "  id int [pk]\n",
    "  text varchar\n",
    "  date datetime\n",
    "  article int\n",
    " }\n",
    "\n",
    "// Creating references\n",
    "// You can also define relaionship separately\n",
    "// > many-to-one; < one-to-many; - one-to-one; <> many-to-many\n",
    "Ref: Journaliste.id > JournalisteArticle.journaliste  \n",
    "Ref: Article.id > JournalisteArticle.article  \n",
    "//Ref: Journaliste.id <> Article.id\n",
    "\n",
    "Ref: \"Article\".\"id\" < \"Commentaire\".\"article\"\n",
    "```"
   ]
  },
  {
   "cell_type": "code",
   "execution_count": null,
   "id": "4ed52bea",
   "metadata": {},
   "outputs": [],
   "source": []
  }
 ],
 "metadata": {
  "kernelspec": {
   "display_name": "Python 3",
   "language": "python",
   "name": "python3"
  },
  "language_info": {
   "codemirror_mode": {
    "name": "ipython",
    "version": 3
   },
   "file_extension": ".py",
   "mimetype": "text/x-python",
   "name": "python",
   "nbconvert_exporter": "python",
   "pygments_lexer": "ipython3",
   "version": "3.6.8"
  }
 },
 "nbformat": 4,
 "nbformat_minor": 5
}
